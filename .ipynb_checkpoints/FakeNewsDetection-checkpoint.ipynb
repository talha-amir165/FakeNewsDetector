{
 "cells": [
  {
   "cell_type": "code",
   "execution_count": 1,
   "metadata": {},
   "outputs": [],
   "source": [
    "#importing modules\n",
    "import numpy as np\n",
    "import pandas as pd\n",
    "import itertools\n",
    "import joblib\n",
    "from sklearn.model_selection import train_test_split\n",
    "from sklearn.feature_extraction.text import TfidfVectorizer\n",
    "from sklearn.linear_model import LogisticRegression\n",
    "from sklearn.svm import SVC\n",
    "from sklearn.naive_bayes import MultinomialNB\n",
    "from sklearn.linear_model import Perceptron\n",
    "from sklearn.metrics import accuracy_score"
   ]
  },
  {
   "cell_type": "code",
   "execution_count": 2,
   "metadata": {},
   "outputs": [
    {
     "data": {
      "text/html": [
       "<div>\n",
       "<style scoped>\n",
       "    .dataframe tbody tr th:only-of-type {\n",
       "        vertical-align: middle;\n",
       "    }\n",
       "\n",
       "    .dataframe tbody tr th {\n",
       "        vertical-align: top;\n",
       "    }\n",
       "\n",
       "    .dataframe thead th {\n",
       "        text-align: right;\n",
       "    }\n",
       "</style>\n",
       "<table border=\"1\" class=\"dataframe\">\n",
       "  <thead>\n",
       "    <tr style=\"text-align: right;\">\n",
       "      <th></th>\n",
       "      <th>Unnamed: 0</th>\n",
       "      <th>title</th>\n",
       "      <th>text</th>\n",
       "      <th>label</th>\n",
       "    </tr>\n",
       "  </thead>\n",
       "  <tbody>\n",
       "    <tr>\n",
       "      <th>0</th>\n",
       "      <td>8476</td>\n",
       "      <td>You Can Smell Hillary’s Fear</td>\n",
       "      <td>Daniel Greenfield, a Shillman Journalism Fello...</td>\n",
       "      <td>FAKE</td>\n",
       "    </tr>\n",
       "    <tr>\n",
       "      <th>1</th>\n",
       "      <td>10294</td>\n",
       "      <td>Watch The Exact Moment Paul Ryan Committed Pol...</td>\n",
       "      <td>Google Pinterest Digg Linkedin Reddit Stumbleu...</td>\n",
       "      <td>FAKE</td>\n",
       "    </tr>\n",
       "    <tr>\n",
       "      <th>2</th>\n",
       "      <td>3608</td>\n",
       "      <td>Kerry to go to Paris in gesture of sympathy</td>\n",
       "      <td>U.S. Secretary of State John F. Kerry said Mon...</td>\n",
       "      <td>REAL</td>\n",
       "    </tr>\n",
       "    <tr>\n",
       "      <th>3</th>\n",
       "      <td>10142</td>\n",
       "      <td>Bernie supporters on Twitter erupt in anger ag...</td>\n",
       "      <td>— Kaydee King (@KaydeeKing) November 9, 2016 T...</td>\n",
       "      <td>FAKE</td>\n",
       "    </tr>\n",
       "    <tr>\n",
       "      <th>4</th>\n",
       "      <td>875</td>\n",
       "      <td>The Battle of New York: Why This Primary Matters</td>\n",
       "      <td>It's primary day in New York and front-runners...</td>\n",
       "      <td>REAL</td>\n",
       "    </tr>\n",
       "  </tbody>\n",
       "</table>\n",
       "</div>"
      ],
      "text/plain": [
       "   Unnamed: 0                                              title  \\\n",
       "0        8476                       You Can Smell Hillary’s Fear   \n",
       "1       10294  Watch The Exact Moment Paul Ryan Committed Pol...   \n",
       "2        3608        Kerry to go to Paris in gesture of sympathy   \n",
       "3       10142  Bernie supporters on Twitter erupt in anger ag...   \n",
       "4         875   The Battle of New York: Why This Primary Matters   \n",
       "\n",
       "                                                text label  \n",
       "0  Daniel Greenfield, a Shillman Journalism Fello...  FAKE  \n",
       "1  Google Pinterest Digg Linkedin Reddit Stumbleu...  FAKE  \n",
       "2  U.S. Secretary of State John F. Kerry said Mon...  REAL  \n",
       "3  — Kaydee King (@KaydeeKing) November 9, 2016 T...  FAKE  \n",
       "4  It's primary day in New York and front-runners...  REAL  "
      ]
     },
     "execution_count": 2,
     "metadata": {},
     "output_type": "execute_result"
    }
   ],
   "source": [
    "df=pd.read_csv('news.csv')  #reading data from dataset\n",
    "df.shape\n",
    "df.head()"
   ]
  },
  {
   "cell_type": "code",
   "execution_count": 3,
   "metadata": {},
   "outputs": [],
   "source": [
    "#storing labels and text in varibles\n",
    "labels=df.label\n",
    "text=df.text"
   ]
  },
  {
   "cell_type": "code",
   "execution_count": 4,
   "metadata": {},
   "outputs": [],
   "source": [
    "trainingtext,testingtext,traininglabel,testinglabel=train_test_split(text, labels, test_size=0.2, random_state=0)"
   ]
  },
  {
   "cell_type": "code",
   "execution_count": 5,
   "metadata": {},
   "outputs": [],
   "source": [
    "#vectorizing data\n",
    "tfidf_vectorizer=TfidfVectorizer(stop_words='english', max_df=0.7)\n",
    "traininglabelvect=tfidf_vectorizer.fit_transform(trainingtext) \n",
    "testinglabelvect=tfidf_vectorizer.transform(testingtext)\n"
   ]
  },
  {
   "cell_type": "code",
   "execution_count": 8,
   "metadata": {},
   "outputs": [
    {
     "name": "stdout",
     "output_type": "stream",
     "text": [
      "Accuracy: 91.55%\n"
     ]
    }
   ],
   "source": [
    "#logistic regression model\n",
    "reg=LogisticRegression(max_iter=50)\n",
    "reg.fit(traininglabelvect,traininglabel)\n",
    "\n",
    "joblib.dump(reg,\"regression.joblib\")\n",
    "\n",
    "y_pred=reg.predict(testinglabelvect)\n",
    "score=accuracy_score(testinglabel,y_pred)\n",
    "print(f'Accuracy: {round(score*100,2)}%')"
   ]
  },
  {
   "cell_type": "code",
   "execution_count": 9,
   "metadata": {
    "scrolled": true
   },
   "outputs": [
    {
     "name": "stdout",
     "output_type": "stream",
     "text": [
      "Accuracy: 91.71%\n"
     ]
    }
   ],
   "source": [
    "#perceptron model\n",
    "perc=Perceptron()\n",
    "perc.fit(traininglabelvect,traininglabel)\n",
    "\n",
    "joblib.dump(perc,\"perceptron.joblib\")\n",
    "\n",
    "y_pred=perc.predict(testinglabelvect)\n",
    "score=accuracy_score(testinglabel,y_pred)\n",
    "print(f'Accuracy: {round(score*100,2)}%')\n"
   ]
  },
  {
   "cell_type": "code",
   "execution_count": 11,
   "metadata": {},
   "outputs": [
    {
     "name": "stdout",
     "output_type": "stream",
     "text": [
      "Accuracy: 92.66%\n"
     ]
    }
   ],
   "source": [
    "# svm model\n",
    "svm= SVC()\n",
    "svm.fit(traininglabelvect,traininglabel)\n",
    "\n",
    "joblib.dump(svm,\"SVCmodel.joblib\")\n",
    "\n",
    "y_pred=svm.predict(testinglabelvect)\n",
    "score=accuracy_score(testinglabel,y_pred)\n",
    "print(f'Accuracy: {round(score*100,2)}%')"
   ]
  },
  {
   "cell_type": "code",
   "execution_count": 10,
   "metadata": {},
   "outputs": [
    {
     "name": "stdout",
     "output_type": "stream",
     "text": [
      "Accuracy: 83.19%\n"
     ]
    }
   ],
   "source": [
    "#naive bayes model\n",
    "naivebyes= MultinomialNB()\n",
    "naivebyes.fit(traininglabelvect,traininglabel)\n",
    "\n",
    "joblib.dump(naivebyes,\"naivebayes.joblib\")\n",
    "y_pred=naivebyes.predict(testinglabelvect)\n",
    "score=accuracy_score(testinglabel,y_pred)\n",
    "print(f'Accuracy: {round(score*100,2)}%')\n"
   ]
  },
  {
   "cell_type": "code",
   "execution_count": 13,
   "metadata": {},
   "outputs": [],
   "source": [
    "from tkinter import ttk\n",
    "from tkinter import *\n",
    "import tkinter as tk\n",
    "from turtle import heading\n",
    "import joblib\n",
    "from sklearn.feature_extraction.text import TfidfVectorizer\n",
    "window = Tk()\n",
    "backgroundcolor = '#2c2d30'\n",
    "\n",
    "\n",
    "window.columnconfigure(0, minsize=250)\n",
    "window.rowconfigure([0, 1], minsize=100)\n",
    "\n",
    "\n",
    "enter=tk.StringVar(window)\n",
    "enter.set(\"Hello!Here our resut of prediction will be printed\")\n",
    "\n",
    "\n",
    "def predict(l1,l2):\n",
    "\n",
    "    \n",
    "    \n",
    "    model= joblib.load(r'D:\\ML\\Fake_News_Detection-main\\regression.joblib')\n",
    "   \n",
    "    if __name__==\"__main__\":\n",
    "        \n",
    "    # Text to classify should be in a list.\n",
    "        text = [l2]\n",
    "        textdata = tfidf_vectorizer.transform(text)\n",
    "        news = model.predict(textdata)\n",
    "        data = []\n",
    "        for text, pred in zip(text, news):\n",
    "            data.append((text,pred))\n",
    "        \n",
    "    # Convert the list into a Pandas DataFrame.\n",
    "        df = pd.DataFrame(data, columns = ['----','-----'])\n",
    "        df = df.replace([0,1], [\"FAKE\",\"REAL\"]) \n",
    "   \n",
    "    return df.head()\n",
    " \n",
    "\n",
    "mainheading = Label(master=window,font=(\"Cambria\", 25, \"bold\"), text='Machine Learning Project')\n",
    "l1= Label(master=window,font=(\"Cambria\", 15, \"bold\"), text='Enter news title')\n",
    "l2= Label(master=window, font=(\"Cambria\", 15, \"bold\"),text='Enter news text')\n",
    "mainheading.grid(row=0,columnspan=7,sticky='ew')\n",
    "l1.grid(row=1)\n",
    "l2.grid(row=2)\n",
    "\n",
    "e1 = ttk.Entry(master=window, font=(\"Cambria\", 15, \"bold\"), width = 20)\n",
    "e2 = ttk.Entry(master=window, font=(\"Cambria\", 15, \"bold\"), width = 20)\n",
    "e1.grid(row=1, column=1,padx=30, pady=5)\n",
    "e2.grid(row=2, column=1,padx=30, pady=5)\n",
    "\n",
    "b = Button(master=window, text='Predict', height=1,width=6, font=(\"Cambria\", 18), foreground=\"white\",activeforeground=\"black\", borderwidth=6, background=\"#000000\",activebackground=\"#03fc24\",command=lambda:enter.set(predict(e1.get(),e2.get())))\n",
    "b.grid(row=3, column=3, padx=0, pady=5)\n",
    "\n",
    "textheading=Label(master=window,text='------RESULT OF PREDICTION OF MODEL------',height=1,width=20,bg='green', anchor=\"nw\")\n",
    "textheading.grid(row=4,columnspan=7,sticky='ew')\n",
    "txt=Label(master=window,textvariable=enter,height=10,width=20,bg='white', anchor=\"nw\")\n",
    "txt.grid(row=5,columnspan=7,sticky='ew')\n",
    "\n",
    "\n",
    "window.title(\"ML Project\") \n",
    "\n",
    "window.configure(bg=backgroundcolor)\n",
    "window.mainloop()"
   ]
  },
  {
   "cell_type": "code",
   "execution_count": null,
   "metadata": {},
   "outputs": [],
   "source": []
  },
  {
   "cell_type": "code",
   "execution_count": null,
   "metadata": {},
   "outputs": [],
   "source": []
  }
 ],
 "metadata": {
  "kernelspec": {
   "display_name": "Python 3 (ipykernel)",
   "language": "python",
   "name": "python3"
  },
  "language_info": {
   "codemirror_mode": {
    "name": "ipython",
    "version": 3
   },
   "file_extension": ".py",
   "mimetype": "text/x-python",
   "name": "python",
   "nbconvert_exporter": "python",
   "pygments_lexer": "ipython3",
   "version": "3.10.4"
  }
 },
 "nbformat": 4,
 "nbformat_minor": 4
}
